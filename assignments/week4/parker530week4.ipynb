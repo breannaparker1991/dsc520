{
 "cells": [
  {
   "cell_type": "code",
   "execution_count": 4,
   "metadata": {},
   "outputs": [
    {
     "name": "stdout",
     "output_type": "stream",
     "text": [
      "(13593, 244)\n",
      "All tests passed.\n"
     ]
    },
    {
     "name": "stderr",
     "output_type": "stream",
     "text": [
      "C:\\Users\\brean\\AppData\\Local\\Temp\\ipykernel_15368\\3399610791.py:120: FutureWarning: iteritems is deprecated and will be removed in a future version. Use .items instead.\n",
      "  for index, caseid in df.caseid.iteritems():\n",
      "C:\\Users\\brean\\AppData\\Local\\Temp\\ipykernel_15368\\3399610791.py:99: FutureWarning: iteritems is deprecated and will be removed in a future version. Use .items instead.\n",
      "  for index, pregnum in resp.pregnum.iteritems():\n"
     ]
    }
   ],
   "source": [
    "\"\"\"This file contains code for use with \"Think Stats\",\n",
    "by Allen B. Downey, available from greenteapress.com\n",
    "\n",
    "Copyright 2010 Allen B. Downey\n",
    "License: GNU GPLv3 http://www.gnu.org/licenses/gpl.html\n",
    "\"\"\"\n",
    "\n",
    "import sys\n",
    "import numpy as np\n",
    "import thinkstats2\n",
    "import math\n",
    "import thinkplot\n",
    "import random\n",
    "\n",
    "from collections import defaultdict\n",
    "\n",
    "\n",
    "def ReadFemResp(dct_file='2002FemResp.dct',\n",
    "                dat_file='2002FemResp.dat.gz',\n",
    "                nrows=None):\n",
    "    \"\"\"Reads the NSFG respondent data.\n",
    "\n",
    "    dct_file: string file name\n",
    "    dat_file: string file name\n",
    "\n",
    "    returns: DataFrame\n",
    "    \"\"\"\n",
    "    dct = thinkstats2.ReadStataDct(dct_file)\n",
    "    df = dct.ReadFixedWidth(dat_file, compression='gzip', nrows=nrows)\n",
    "    CleanFemResp(df)\n",
    "    return df\n",
    "\n",
    "\n",
    "def CleanFemResp(df):\n",
    "    \"\"\"Recodes variables from the respondent frame.\n",
    "\n",
    "    df: DataFrame\n",
    "    \"\"\"\n",
    "    pass\n",
    "\n",
    "\n",
    "def ReadFemPreg(dct_file='2002FemPreg.dct',\n",
    "                dat_file='2002FemPreg.dat.gz'):\n",
    "    \"\"\"Reads the NSFG pregnancy data.\n",
    "\n",
    "    dct_file: string file name\n",
    "    dat_file: string file name\n",
    "\n",
    "    returns: DataFrame\n",
    "    \"\"\"\n",
    "    dct = thinkstats2.ReadStataDct(dct_file)\n",
    "    df = dct.ReadFixedWidth(dat_file, compression='gzip')\n",
    "    CleanFemPreg(df)\n",
    "    return df\n",
    "\n",
    "\n",
    "def CleanFemPreg(df):\n",
    "    \"\"\"Recodes variables from the pregnancy frame.\n",
    "\n",
    "    df: DataFrame\n",
    "    \"\"\"\n",
    "    # mother's age is encoded in centiyears; convert to years\n",
    "    df.agepreg /= 100.0\n",
    "\n",
    "    # birthwgt_lb contains at least one bogus value (51 lbs)\n",
    "    # replace with NaN\n",
    "    df.loc[df.birthwgt_lb > 20, 'birthwgt_lb'] = np.nan\n",
    "    \n",
    "    # replace 'not ascertained', 'refused', 'don't know' with NaN\n",
    "    na_vals = [97, 98, 99]\n",
    "    df.birthwgt_lb.replace(na_vals, np.nan, inplace=True)\n",
    "    df.birthwgt_oz.replace(na_vals, np.nan, inplace=True)\n",
    "    df.hpagelb.replace(na_vals, np.nan, inplace=True)\n",
    "\n",
    "    df.babysex.replace([7, 9], np.nan, inplace=True)\n",
    "    df.nbrnaliv.replace([9], np.nan, inplace=True)\n",
    "\n",
    "    # birthweight is stored in two columns, lbs and oz.\n",
    "    # convert to a single column in lb\n",
    "    # NOTE: creating a new column requires dictionary syntax,\n",
    "    # not attribute assignment (like df.totalwgt_lb)\n",
    "    df['totalwgt_lb'] = df.birthwgt_lb + df.birthwgt_oz / 16.0    \n",
    "\n",
    "    # due to a bug in ReadStataDct, the last variable gets clipped;\n",
    "    # so for now set it to NaN\n",
    "    df.cmintvw = np.nan\n",
    "\n",
    "\n",
    "def ValidatePregnum(resp, preg):\n",
    "    \"\"\"Validate pregnum in the respondent file.\n",
    "\n",
    "    resp: respondent DataFrame\n",
    "    preg: pregnancy DataFrame\n",
    "    \"\"\"\n",
    "    # make the map from caseid to list of pregnancy indices\n",
    "    preg_map = MakePregMap(preg)\n",
    "    \n",
    "    # iterate through the respondent pregnum series\n",
    "    for index, pregnum in resp.pregnum.iteritems():\n",
    "        caseid = resp.caseid[index]\n",
    "        indices = preg_map[caseid]\n",
    "\n",
    "        # check that pregnum from the respondent file equals\n",
    "        # the number of records in the pregnancy file\n",
    "        if len(indices) != pregnum:\n",
    "            print(caseid, len(indices), pregnum)\n",
    "            return False\n",
    "\n",
    "    return True\n",
    "\n",
    "\n",
    "def MakePregMap(df):\n",
    "    \"\"\"Make a map from caseid to list of preg indices.\n",
    "\n",
    "    df: DataFrame\n",
    "\n",
    "    returns: dict that maps from caseid to list of indices into `preg`\n",
    "    \"\"\"\n",
    "    d = defaultdict(list)\n",
    "    for index, caseid in df.caseid.iteritems():\n",
    "        d[caseid].append(index)\n",
    "    return d\n",
    "\n",
    "\n",
    "def main():\n",
    "    \"\"\"Tests the functions in this module.\n",
    "\n",
    "    script: string script name\n",
    "    \"\"\"\n",
    "    # read and validate the respondent file\n",
    "    resp = ReadFemResp()\n",
    "\n",
    "    assert(len(resp) == 7643)\n",
    "    assert(resp.pregnum.value_counts()[1] == 1267)\n",
    "\n",
    "    # read and validate the pregnancy file\n",
    "    preg = ReadFemPreg()\n",
    "    print(preg.shape)\n",
    "\n",
    "    assert len(preg) == 13593\n",
    "    assert preg.caseid[13592] == 12571\n",
    "    assert preg.pregordr.value_counts()[1] == 5033\n",
    "    assert preg.nbrnaliv.value_counts()[1] == 8981\n",
    "    assert preg.babysex.value_counts()[1] == 4641\n",
    "    assert preg.birthwgt_lb.value_counts()[7] == 3049\n",
    "    assert preg.birthwgt_oz.value_counts()[0] == 1037\n",
    "    assert preg.prglngth.value_counts()[39] == 4744\n",
    "    assert preg.outcome.value_counts()[1] == 9148\n",
    "    assert preg.birthord.value_counts()[1] == 4413\n",
    "    assert preg.agepreg.value_counts()[22.75] == 100\n",
    "    assert preg.totalwgt_lb.value_counts()[7.5] == 302\n",
    "\n",
    "    weights = preg.finalwgt.value_counts()\n",
    "    key = max(weights.keys())\n",
    "    assert preg.finalwgt.value_counts()[key] == 6\n",
    "\n",
    "    # validate that the pregnum column in `resp` matches the number\n",
    "    # of entries in `preg`\n",
    "    assert(ValidatePregnum(resp, preg))\n",
    "\n",
    "    \n",
    "    print('All tests passed.')\n",
    "\n",
    "\n",
    "if __name__ == '__main__':\n",
    "    main()"
   ]
  },
  {
   "cell_type": "markdown",
   "metadata": {},
   "source": [
    "Page 35-36: 3-1 something like the class size paradox appears if you survey children adn ask how many children are in their fmaily. families with many children are more likely to appear in your sample and families with no children have no chance to be in the sample. use the NSFG respondant variable NUMKDHH to construct the actual distribution for the number of children under 18 in the household. Now compute the biased distribution we would see if we surveyed the children and asked them how many children under 18(including themselves) are in their household. Plot the actual adn biased distributions, and compute their means. "
   ]
  },
  {
   "cell_type": "code",
   "execution_count": 5,
   "metadata": {},
   "outputs": [
    {
     "name": "stderr",
     "output_type": "stream",
     "text": [
      "C:\\Users\\brean\\OneDrive\\Desktop\\NucampFolder\\projects\\ThinkStats2\\code\\thinkstats2.py:161: FutureWarning: iteritems is deprecated and will be removed in a future version. Use .items instead.\n",
      "  self.d.update(obj.value_counts().iteritems())\n"
     ]
    },
    {
     "data": {
      "image/png": "[encoded data removed]",
      "text/plain": [
       "<Figure size 640x480 with 1 Axes>"
      ]
     },
     "metadata": {},
     "output_type": "display_data"
    },
    {
     "name": "stdout",
     "output_type": "stream",
     "text": [
      "mean of actual 1.024205155043831\n",
      "mean of biased 2.403679100664282\n"
     ]
    },
    {
     "data": {
      "text/plain": [
       "<Figure size 800x600 with 0 Axes>"
      ]
     },
     "metadata": {},
     "output_type": "display_data"
    }
   ],
   "source": [
    "resp = ReadFemResp()\n",
    "pmf_resp = thinkstats2.Pmf(resp.numkdhh, label='actual')\n",
    "\n",
    "\n",
    "def BiasPmf(pmf_resp,label):\n",
    "    new_pmf = pmf_resp.Copy(label = label)\n",
    "    for x, p in pmf_resp.Items():\n",
    "        new_pmf.Mult(x,x)\n",
    "    new_pmf.Normalize()\n",
    "    return new_pmf\n",
    "\n",
    "bias_pmf = BiasPmf(pmf_resp, label = 'observed')\n",
    "thinkplot.PrePlot(2)\n",
    "thinkplot.pmfs([pmf_resp, bias_pmf])\n",
    "thinkplot.Show(xlabel='children per family', ylabel = \"PMF\")\n",
    "\n",
    "print(\"mean of actual\", pmf_resp.Mean())\n",
    "print(\"mean of biased\", bias_pmf.Mean())\n",
    "\n"
   ]
  },
  {
   "cell_type": "markdown",
   "metadata": {},
   "source": [
    "Page 36: 3-2 (In “Summarizing Distributions” on page 22 we computed the mean of a sample by adding up the elements and dividing by n). if you are given a PMF, you can still compute the mean but the process is slight different. Write functions called PmfMean and PmfVar that take a Pmf object and compute the mean and variance. To test these methods, check that they are consistent with the methods Mean adn Var provided by Pmf\n"
   ]
  },
  {
   "cell_type": "code",
   "execution_count": 6,
   "metadata": {},
   "outputs": [
    {
     "name": "stdout",
     "output_type": "stream",
     "text": [
      "True\n",
      "True\n"
     ]
    }
   ],
   "source": [
    "def PmfMean(pmf):\n",
    "    mean = 0\n",
    "    for x in pmf.Values():\n",
    "        p = pmf.Prob(x)\n",
    "        mean += p * x\n",
    "    return mean\n",
    "\n",
    "def PmfVar(pmf):\n",
    "    mean = PmfMean(pmf)\n",
    "    var = 0\n",
    "    for x in pmf.Values():\n",
    "        p = pmf.Prob(x)\n",
    "        var += p *(x - mean)**2\n",
    "    return var\n",
    "\n",
    "print(PmfMean(pmf_resp) == pmf_resp.Mean())\n",
    "print(PmfVar(pmf_resp) == pmf_resp.Var())"
   ]
  },
  {
   "cell_type": "markdown",
   "metadata": {},
   "source": [
    "Page 47: 4-1 How much did you weigh at birth? If you don’t know, call your mother or someone else who knows. Using the NSFG data (all live births), compute the distribution of birth weights and use it to find your percentile rank. If you were a first baby, find your percentile rank in the distribution for first babies. Otherwise use the distribution forothers. I weighed 7.95 lbs at birth. Please use python to code this and please post the results of the code! Thank you!"
   ]
  },
  {
   "cell_type": "code",
   "execution_count": 7,
   "metadata": {},
   "outputs": [
    {
     "name": "stdout",
     "output_type": "stream",
     "text": [
      "39.66209081309398\n"
     ]
    }
   ],
   "source": [
    "#7lb 1oz\n",
    "\n",
    "preg = ReadFemPreg()\n",
    "live = preg[preg.outcome == 1]\n",
    "firsts = live[live.birthord == 1]\n",
    "others = live[live.birthord != 1]\n",
    "\n",
    "mine = 7.0625\n",
    "other = others.totalwgt_lb\n",
    "\n",
    "def PercentileRank(other, mine):\n",
    "    count = 0\n",
    "    for weight in other:\n",
    "        if weight <= mine:\n",
    "            count += 1\n",
    "    rank = 100 * count / len(other)\n",
    "    return rank\n",
    "print(PercentileRank(other, mine))"
   ]
  },
  {
   "cell_type": "markdown",
   "metadata": {},
   "source": [
    "Page 48: 4-2 The numbers generated by random.random are supposed to be uniform between 0 and 1; that is, every value in the range should have the same probability. Generate 1000 numbers from random.random and plot their PMF and CDF. is the distribution uniform? "
   ]
  },
  {
   "cell_type": "code",
   "execution_count": 22,
   "metadata": {},
   "outputs": [
    {
     "data": {
      "text/plain": [
       "{'xscale': 'linear', 'yscale': 'linear'}"
      ]
     },
     "execution_count": 22,
     "metadata": {},
     "output_type": "execute_result"
    },
    {
     "data": {
      "image/png": "[encoded data removed]",
      "text/plain": [
       "<Figure size 640x480 with 1 Axes>"
      ]
     },
     "metadata": {},
     "output_type": "display_data"
    }
   ],
   "source": [
    "generated = np.random.random(size=1000)\n",
    "\n",
    "random_pmf = thinkstats2.Pmf(generated, label = 'pmf')\n",
    "random_cdf = thinkstats2.Cdf(generated, label = 'cdf')\n",
    "thinkplot.PrePlot(2)\n",
    "thinkplot.pmf(random_pmf)\n",
    "thinkplot.cdf(random_cdf)\n",
    "\n",
    "#yes, this is a uniform distribution"
   ]
  },
  {
   "cell_type": "code",
   "execution_count": null,
   "metadata": {},
   "outputs": [],
   "source": []
  }
 ],
 "metadata": {
  "kernelspec": {
   "display_name": "Python 3 (ipykernel)",
   "language": "python",
   "name": "python3"
  },
  "language_info": {
   "codemirror_mode": {
    "name": "ipython",
    "version": 3
   },
   "file_extension": ".py",
   "mimetype": "text/x-python",
   "name": "python",
   "nbconvert_exporter": "python",
   "pygments_lexer": "ipython3",
   "version": "3.9.5"
  },
  "vscode": {
   "interpreter": {
    "hash": "369f2c481f4da34e4445cda3fffd2e751bd1c4d706f27375911949ba6bb62e1c"
   }
  }
 },
 "nbformat": 4,
 "nbformat_minor": 2
}
